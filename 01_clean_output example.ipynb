{
 "cells": [
  {
   "cell_type": "code",
   "execution_count": null,
   "id": "b18c9b89",
   "metadata": {},
   "outputs": [],
   "source": [
    "from matplotlib import pyplot as plt\n",
    "import numpy as np"
   ]
  },
  {
   "cell_type": "markdown",
   "id": "61024785",
   "metadata": {},
   "source": [
    "# Awesome Quadratic Plot"
   ]
  },
  {
   "cell_type": "code",
   "execution_count": null,
   "id": "38ff0e48",
   "metadata": {},
   "outputs": [],
   "source": [
    "x = np.arange(0, 20)\n",
    "y = x**2\n",
    "plt.plot(x,y)\n",
    "plt.suptitle('I am a Title')\n",
    "plt.show()"
   ]
  },
  {
   "cell_type": "code",
   "execution_count": null,
   "id": "656c8dcb",
   "metadata": {},
   "outputs": [],
   "source": []
  }
 ],
 "metadata": {
  "kernelspec": {
   "display_name": "dev",
   "language": "python",
   "name": "dev"
  }
 },
 "nbformat": 4,
 "nbformat_minor": 5
}
